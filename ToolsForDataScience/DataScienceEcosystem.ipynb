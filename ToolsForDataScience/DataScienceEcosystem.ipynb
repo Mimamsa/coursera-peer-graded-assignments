{
 "cells": [
  {
   "cell_type": "markdown",
   "id": "32242edd-a888-4854-bc61-b09e0800db22",
   "metadata": {},
   "source": [
    "# Data Science Tools and Ecosystem"
   ]
  },
  {
   "cell_type": "markdown",
   "id": "18bc7994-011f-486a-859d-e27fd5bbdf33",
   "metadata": {},
   "source": [
    "In this notebook, Data Science Tools and Ecosystem are summarized."
   ]
  },
  {
   "cell_type": "markdown",
   "id": "9451de20-a456-4572-82be-327272e1bf45",
   "metadata": {},
   "source": [
    "**Objectives:**\n",
    "- List popular languages for Data Science\n",
    "- List commonly used libraries for Data Science\n",
    "- Table of Data Science Tools\n",
    "- Examples of evaluating arithmetic expressions in Python.\n",
    "- Author"
   ]
  },
  {
   "cell_type": "markdown",
   "id": "bf909aab-2791-4e96-a7f2-956991e98ec1",
   "metadata": {},
   "source": [
    "Some of the popular languages that Data Scientists use are:\n",
    "1. Python\n",
    "2. R\n",
    "3. SQL"
   ]
  },
  {
   "cell_type": "markdown",
   "id": "53d24d9c-9fe4-48dd-a78c-4f161974675a",
   "metadata": {},
   "source": [
    "Some of the commonly used libraries used by Data Scientists include:\n",
    "1. Scikit-learn\n",
    "2. Pandas\n",
    "3. Numpy"
   ]
  },
  {
   "cell_type": "markdown",
   "id": "9eb96894-0a9c-4908-8717-3131dad4e721",
   "metadata": {},
   "source": [
    "| Data Science Tools |\n",
    "| ------------------ |\n",
    "| Anaconda |\n",
    "| R-Studio |\n",
    "| Jupyter Notebook |"
   ]
  },
  {
   "cell_type": "markdown",
   "id": "10c26a40-db71-4dba-b2ec-c02e929aa6fc",
   "metadata": {},
   "source": [
    "### Below are a few examples of evaluating arithmetic expressions in Python."
   ]
  },
  {
   "cell_type": "code",
   "execution_count": 1,
   "id": "813a4b47-33ba-4e6d-a00a-6a3d13b6cd1d",
   "metadata": {},
   "outputs": [
    {
     "data": {
      "text/plain": [
       "17"
      ]
     },
     "execution_count": 1,
     "metadata": {},
     "output_type": "execute_result"
    }
   ],
   "source": [
    "# This a simple arithmetic expression to multiply then add integers.\n",
    "(3*4)+5"
   ]
  },
  {
   "cell_type": "code",
   "execution_count": 2,
   "id": "aac08bbe-de16-44fe-83a3-a4ac982bb7b6",
   "metadata": {},
   "outputs": [
    {
     "data": {
      "text/plain": [
       "3.3333333333333335"
      ]
     },
     "execution_count": 2,
     "metadata": {},
     "output_type": "execute_result"
    }
   ],
   "source": [
    "# This will convert 200 minutes to hours by diving by 60.\n",
    "200/60"
   ]
  },
  {
   "cell_type": "markdown",
   "id": "27ee97b5-cdef-42dc-92ff-893231f08bf3",
   "metadata": {},
   "source": [
    "## Author\n",
    "Yu-Hsien Chen"
   ]
  }
 ],
 "metadata": {
  "kernelspec": {
   "display_name": "Python 3 (ipykernel)",
   "language": "python",
   "name": "python3"
  },
  "language_info": {
   "codemirror_mode": {
    "name": "ipython",
    "version": 3
   },
   "file_extension": ".py",
   "mimetype": "text/x-python",
   "name": "python",
   "nbconvert_exporter": "python",
   "pygments_lexer": "ipython3",
   "version": "3.12.8"
  }
 },
 "nbformat": 4,
 "nbformat_minor": 5
}
